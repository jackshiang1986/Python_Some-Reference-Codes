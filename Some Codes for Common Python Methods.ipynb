{
 "cells": [
  {
   "cell_type": "markdown",
   "id": "cb0cbd85",
   "metadata": {},
   "source": [
    "# In this notebook, some codes for useful and commonly used methods in Python are provided."
   ]
  },
  {
   "cell_type": "markdown",
   "id": "8dc77dda",
   "metadata": {},
   "source": [
    "# String format() method"
   ]
  },
  {
   "cell_type": "code",
   "execution_count": 1,
   "id": "233edc1c",
   "metadata": {},
   "outputs": [],
   "source": [
    "name = \"John\"\n",
    "age = 36"
   ]
  },
  {
   "cell_type": "code",
   "execution_count": 2,
   "id": "8e4e6800",
   "metadata": {},
   "outputs": [
    {
     "name": "stdout",
     "output_type": "stream",
     "text": [
      "My name is John, I'm 36\n"
     ]
    }
   ],
   "source": [
    "txt1 = \"My name is {fname}, I'm {age}\".format(fname = name, age = age)\n",
    "print(txt1)"
   ]
  },
  {
   "cell_type": "code",
   "execution_count": 3,
   "id": "6a4226a3",
   "metadata": {},
   "outputs": [
    {
     "name": "stdout",
     "output_type": "stream",
     "text": [
      "My name is John, I'm 36\n"
     ]
    }
   ],
   "source": [
    "txt2 = \"My name is {0}, I'm {1}\".format(name,age)\n",
    "print(txt2)"
   ]
  },
  {
   "cell_type": "code",
   "execution_count": 4,
   "id": "e1fc547f",
   "metadata": {},
   "outputs": [
    {
     "name": "stdout",
     "output_type": "stream",
     "text": [
      "My name is John, I'm 36\n"
     ]
    }
   ],
   "source": [
    "txt3 = \"My name is {}, I'm {}\".format(name,age)\n",
    "print(txt3)"
   ]
  },
  {
   "cell_type": "markdown",
   "id": "8f44bb5f",
   "metadata": {},
   "source": [
    "# F-strings method"
   ]
  },
  {
   "cell_type": "code",
   "execution_count": 5,
   "id": "3b51ac4c",
   "metadata": {},
   "outputs": [
    {
     "name": "stdout",
     "output_type": "stream",
     "text": [
      "Hello, Eric. You are 74.\n"
     ]
    }
   ],
   "source": [
    "name = \"Eric\"\n",
    "age = 74\n",
    "print(f\"Hello, {name}. You are {age}.\")"
   ]
  },
  {
   "cell_type": "markdown",
   "id": "2f244bb0",
   "metadata": {},
   "source": [
    "# Asking for user input"
   ]
  },
  {
   "cell_type": "code",
   "execution_count": 6,
   "id": "c83f0bd9",
   "metadata": {
    "scrolled": true
   },
   "outputs": [
    {
     "name": "stdout",
     "output_type": "stream",
     "text": [
      "Please enter your name: Michael\n",
      "Hello Michael!\n"
     ]
    }
   ],
   "source": [
    "name = ''\n",
    "\n",
    "while name == '':\n",
    "    name = input(\"Please enter your name: \")\n",
    "    \n",
    "print(f\"Hello {name}!\")"
   ]
  },
  {
   "cell_type": "markdown",
   "id": "f2df94b2",
   "metadata": {},
   "source": [
    "# Tuple packing and unpacking\n",
    "When we create a tuple, we normally assign values to it. This is called \"packing\" a tuple. But, in Python, we are also allowed to extract the values back into variables. This is called \"unpacking\"."
   ]
  },
  {
   "cell_type": "code",
   "execution_count": 7,
   "id": "fef9e7e6",
   "metadata": {},
   "outputs": [
    {
     "data": {
      "text/plain": [
       "('apple', 'banana', 'cherry')"
      ]
     },
     "execution_count": 7,
     "metadata": {},
     "output_type": "execute_result"
    }
   ],
   "source": [
    "# Packing a tuple\n",
    "fruits = (\"apple\", \"banana\", \"cherry\")\n",
    "fruits"
   ]
  },
  {
   "cell_type": "code",
   "execution_count": 8,
   "id": "c680e4f2",
   "metadata": {},
   "outputs": [
    {
     "name": "stdout",
     "output_type": "stream",
     "text": [
      "apple\n",
      "banana\n",
      "cherry\n"
     ]
    }
   ],
   "source": [
    "# Unpacking a tuple\n",
    "fruits = (\"apple\", \"banana\", \"cherry\")\n",
    "\n",
    "(green, yellow, red) = fruits\n",
    "\n",
    "print(green)\n",
    "print(yellow)\n",
    "print(red)"
   ]
  },
  {
   "cell_type": "markdown",
   "id": "7cb724c1",
   "metadata": {},
   "source": [
    "# append()\n",
    "Adding element to an existing list."
   ]
  },
  {
   "cell_type": "code",
   "execution_count": 9,
   "id": "3b74d2d9",
   "metadata": {},
   "outputs": [],
   "source": [
    "fruits = ['apple', 'banana', 'cherry']\n",
    "fruits.append(\"orange\")"
   ]
  },
  {
   "cell_type": "code",
   "execution_count": 10,
   "id": "f7c481e3",
   "metadata": {},
   "outputs": [
    {
     "name": "stdout",
     "output_type": "stream",
     "text": [
      "['apple', 'banana', 'cherry', 'orange']\n"
     ]
    }
   ],
   "source": [
    "print(fruits)"
   ]
  },
  {
   "cell_type": "markdown",
   "id": "18bc4311",
   "metadata": {},
   "source": [
    "# pop()\n",
    "Remove the last element from an existing list (which element to be removed can be specified)."
   ]
  },
  {
   "cell_type": "code",
   "execution_count": 11,
   "id": "b2c2c42b",
   "metadata": {},
   "outputs": [
    {
     "data": {
      "text/plain": [
       "[1, 2, 3, 4, 5]"
      ]
     },
     "execution_count": 11,
     "metadata": {},
     "output_type": "execute_result"
    }
   ],
   "source": [
    "my_list = [1,2,3,4,5]\n",
    "my_list"
   ]
  },
  {
   "cell_type": "code",
   "execution_count": 12,
   "id": "a64c1750",
   "metadata": {},
   "outputs": [
    {
     "data": {
      "text/plain": [
       "5"
      ]
     },
     "execution_count": 12,
     "metadata": {},
     "output_type": "execute_result"
    }
   ],
   "source": [
    "my_list.pop()"
   ]
  },
  {
   "cell_type": "code",
   "execution_count": 13,
   "id": "62fb0083",
   "metadata": {},
   "outputs": [
    {
     "data": {
      "text/plain": [
       "[1, 2, 3, 4]"
      ]
     },
     "execution_count": 13,
     "metadata": {},
     "output_type": "execute_result"
    }
   ],
   "source": [
    "my_list"
   ]
  },
  {
   "cell_type": "markdown",
   "id": "54bff4c8",
   "metadata": {},
   "source": [
    "# sort()\n",
    "Sort the list alphabetically."
   ]
  },
  {
   "cell_type": "code",
   "execution_count": 14,
   "id": "031b277d",
   "metadata": {},
   "outputs": [],
   "source": [
    "cars = ['Ford', 'BMW', 'Volvo']\n",
    "cars.sort()"
   ]
  },
  {
   "cell_type": "code",
   "execution_count": 15,
   "id": "47f2a32e",
   "metadata": {},
   "outputs": [
    {
     "name": "stdout",
     "output_type": "stream",
     "text": [
      "['BMW', 'Ford', 'Volvo']\n"
     ]
    }
   ],
   "source": [
    "print(cars)"
   ]
  },
  {
   "cell_type": "markdown",
   "id": "d773e9eb",
   "metadata": {},
   "source": [
    "# reverse()\n",
    "Reverse the sorting order of the elements."
   ]
  },
  {
   "cell_type": "code",
   "execution_count": 16,
   "id": "81d9f38f",
   "metadata": {},
   "outputs": [],
   "source": [
    "cars = ['Ford', 'BMW', 'Volvo']\n",
    "cars.reverse()"
   ]
  },
  {
   "cell_type": "code",
   "execution_count": 17,
   "id": "a3ffff9c",
   "metadata": {},
   "outputs": [
    {
     "name": "stdout",
     "output_type": "stream",
     "text": [
      "['Volvo', 'BMW', 'Ford']\n"
     ]
    }
   ],
   "source": [
    "print(cars)"
   ]
  },
  {
   "cell_type": "markdown",
   "id": "e21d97d5",
   "metadata": {},
   "source": [
    "# join()\n",
    "Take all items in an iterable and joins them into one string. A string must be specified as the separator."
   ]
  },
  {
   "cell_type": "code",
   "execution_count": 18,
   "id": "077dd705",
   "metadata": {},
   "outputs": [
    {
     "name": "stdout",
     "output_type": "stream",
     "text": [
      "a b c\n"
     ]
    }
   ],
   "source": [
    "my_list = ['a','b','c']\n",
    "x = ' '.join(my_list)\n",
    "print(x)"
   ]
  },
  {
   "cell_type": "code",
   "execution_count": 19,
   "id": "5391d060",
   "metadata": {},
   "outputs": [
    {
     "name": "stdout",
     "output_type": "stream",
     "text": [
      "John#Peter#Vicky\n"
     ]
    }
   ],
   "source": [
    "myTuple = (\"John\", \"Peter\", \"Vicky\")\n",
    "y = \"#\".join(myTuple)\n",
    "print(y)"
   ]
  },
  {
   "cell_type": "markdown",
   "id": "cfb4fe6f",
   "metadata": {},
   "source": [
    "# range()\n",
    "Returns a sequence of numbers, starting from 0 by default, and increments by 1 (by default), and stops before a specified number."
   ]
  },
  {
   "cell_type": "code",
   "execution_count": 20,
   "id": "81100f59",
   "metadata": {},
   "outputs": [
    {
     "name": "stdout",
     "output_type": "stream",
     "text": [
      "0\n",
      "1\n",
      "2\n",
      "3\n",
      "4\n",
      "5\n"
     ]
    }
   ],
   "source": [
    "x = range(6)\n",
    "\n",
    "for n in x:\n",
    "      print(n)"
   ]
  },
  {
   "cell_type": "code",
   "execution_count": 21,
   "id": "949ea0e9",
   "metadata": {},
   "outputs": [
    {
     "name": "stdout",
     "output_type": "stream",
     "text": [
      "3\n",
      "5\n",
      "7\n",
      "9\n",
      "11\n",
      "13\n",
      "15\n",
      "17\n",
      "19\n"
     ]
    }
   ],
   "source": [
    "x = range(3, 20, 2)\n",
    "\n",
    "for n in x:\n",
    "    print(n)"
   ]
  },
  {
   "cell_type": "markdown",
   "id": "57ca7c08",
   "metadata": {},
   "source": [
    "# enumerate()\n",
    "The enumerate() function takes a collection (e.g. a tuple) and returns it as an enumerate object.\n",
    "The enumerate() function adds a counter as the key of the enumerate object."
   ]
  },
  {
   "cell_type": "code",
   "execution_count": 22,
   "id": "72112c17",
   "metadata": {},
   "outputs": [],
   "source": [
    "x = ('apple', 'banana', 'cherry')\n",
    "y = enumerate(x,start = 0)"
   ]
  },
  {
   "cell_type": "code",
   "execution_count": 23,
   "id": "70460369",
   "metadata": {},
   "outputs": [
    {
     "name": "stdout",
     "output_type": "stream",
     "text": [
      "<enumerate object at 0x000001D8F9E96200>\n"
     ]
    }
   ],
   "source": [
    "print(y)"
   ]
  },
  {
   "cell_type": "code",
   "execution_count": 24,
   "id": "dc4cd5c1",
   "metadata": {},
   "outputs": [
    {
     "name": "stdout",
     "output_type": "stream",
     "text": [
      "(0, 'apple')\n",
      "(1, 'banana')\n",
      "(2, 'cherry')\n"
     ]
    }
   ],
   "source": [
    "for item in y:\n",
    "    print(item)"
   ]
  },
  {
   "cell_type": "markdown",
   "id": "2100117c",
   "metadata": {},
   "source": [
    "# zip()\n",
    "The zip() function returns a zip object, which is an iterator of tuples where the first item in each passed iterator is paired together, and then the second item in each passed iterator are paired together etc.\n",
    "If the passed iterators have different lengths, the iterator with the least items decides the length of the new iterator."
   ]
  },
  {
   "cell_type": "code",
   "execution_count": 25,
   "id": "a07e4541",
   "metadata": {},
   "outputs": [],
   "source": [
    "mylist1 = [1,2,3]\n",
    "mylist2 = ['a','b','c']\n",
    "mylist3 = [100,200,300]"
   ]
  },
  {
   "cell_type": "code",
   "execution_count": 26,
   "id": "88235f41",
   "metadata": {},
   "outputs": [],
   "source": [
    "my_zip = zip(mylist1,mylist2,mylist3)"
   ]
  },
  {
   "cell_type": "code",
   "execution_count": 27,
   "id": "fe735124",
   "metadata": {},
   "outputs": [
    {
     "data": {
      "text/plain": [
       "<zip at 0x1d8f9e965c0>"
      ]
     },
     "execution_count": 27,
     "metadata": {},
     "output_type": "execute_result"
    }
   ],
   "source": [
    "my_zip"
   ]
  },
  {
   "cell_type": "code",
   "execution_count": 28,
   "id": "290798ef",
   "metadata": {},
   "outputs": [
    {
     "name": "stdout",
     "output_type": "stream",
     "text": [
      "(1, 'a', 100)\n",
      "(2, 'b', 200)\n",
      "(3, 'c', 300)\n"
     ]
    }
   ],
   "source": [
    "for item in my_zip:\n",
    "    print(item)"
   ]
  },
  {
   "cell_type": "markdown",
   "id": "4dd48ba1",
   "metadata": {},
   "source": [
    "# in keyword\n",
    "The in keyword is used to check if a value is present in a sequence (list, range, string etc.).\n",
    "The in keyword can also used to iterate through a sequence in a for loop."
   ]
  },
  {
   "cell_type": "code",
   "execution_count": 29,
   "id": "4ff9ad3e",
   "metadata": {},
   "outputs": [
    {
     "data": {
      "text/plain": [
       "False"
      ]
     },
     "execution_count": 29,
     "metadata": {},
     "output_type": "execute_result"
    }
   ],
   "source": [
    "'x' in [1,2,3]"
   ]
  },
  {
   "cell_type": "code",
   "execution_count": 30,
   "id": "9805e0ae",
   "metadata": {},
   "outputs": [
    {
     "data": {
      "text/plain": [
       "True"
      ]
     },
     "execution_count": 30,
     "metadata": {},
     "output_type": "execute_result"
    }
   ],
   "source": [
    "'x' in ['x','y','z']"
   ]
  },
  {
   "cell_type": "code",
   "execution_count": 31,
   "id": "23ce9bdc",
   "metadata": {},
   "outputs": [
    {
     "name": "stdout",
     "output_type": "stream",
     "text": [
      "yes\n"
     ]
    }
   ],
   "source": [
    "fruits = [\"apple\", \"banana\", \"cherry\"]\n",
    "\n",
    "if \"banana\" in fruits:\n",
    "    print(\"yes\")"
   ]
  },
  {
   "cell_type": "markdown",
   "id": "5c2db59d",
   "metadata": {},
   "source": [
    "# min()\n",
    "Return the item with the lowest value, or the item with the lowest value in an iterable.\n",
    "If the values are strings, an alphabetically comparison is done."
   ]
  },
  {
   "cell_type": "code",
   "execution_count": 32,
   "id": "0e6d1eb0",
   "metadata": {},
   "outputs": [],
   "source": [
    "my_num_list = [10, 20, 30, 40, 50]\n",
    "my_char_list = ['a','b','c','d','e']"
   ]
  },
  {
   "cell_type": "code",
   "execution_count": 33,
   "id": "8106d656",
   "metadata": {},
   "outputs": [
    {
     "data": {
      "text/plain": [
       "10"
      ]
     },
     "execution_count": 33,
     "metadata": {},
     "output_type": "execute_result"
    }
   ],
   "source": [
    "min(my_num_list)"
   ]
  },
  {
   "cell_type": "code",
   "execution_count": 34,
   "id": "9a4f0242",
   "metadata": {},
   "outputs": [
    {
     "data": {
      "text/plain": [
       "'a'"
      ]
     },
     "execution_count": 34,
     "metadata": {},
     "output_type": "execute_result"
    }
   ],
   "source": [
    "min(my_char_list)"
   ]
  },
  {
   "cell_type": "markdown",
   "id": "1f6ee10f",
   "metadata": {},
   "source": [
    "# max()\n",
    "Return the item with the highest value, or the item with the highest value in an iterable. If the values are strings, an alphabetically comparison is done."
   ]
  },
  {
   "cell_type": "code",
   "execution_count": 35,
   "id": "7b4e2fdf",
   "metadata": {},
   "outputs": [],
   "source": [
    "my_num_list = [10, 20, 30, 40, 50]\n",
    "my_char_list = ['a','b','c','d','e']"
   ]
  },
  {
   "cell_type": "code",
   "execution_count": 36,
   "id": "c58b338d",
   "metadata": {},
   "outputs": [
    {
     "data": {
      "text/plain": [
       "50"
      ]
     },
     "execution_count": 36,
     "metadata": {},
     "output_type": "execute_result"
    }
   ],
   "source": [
    "max(my_num_list)"
   ]
  },
  {
   "cell_type": "code",
   "execution_count": 37,
   "id": "23508fe6",
   "metadata": {},
   "outputs": [
    {
     "data": {
      "text/plain": [
       "'e'"
      ]
     },
     "execution_count": 37,
     "metadata": {},
     "output_type": "execute_result"
    }
   ],
   "source": [
    "max(my_char_list)"
   ]
  },
  {
   "cell_type": "markdown",
   "id": "1a9734c1",
   "metadata": {},
   "source": [
    "# Tips for quickly creating a list from a string using split()"
   ]
  },
  {
   "cell_type": "code",
   "execution_count": 38,
   "id": "3b9d7104",
   "metadata": {},
   "outputs": [
    {
     "data": {
      "text/plain": [
       "['a', 'b', 'c', 'd', 'e', 'f', 'g', 'h', 'i', 'j', 'k', 'l', 'm', 'n']"
      ]
     },
     "execution_count": 38,
     "metadata": {},
     "output_type": "execute_result"
    }
   ],
   "source": [
    "my_quick_list = 'a b c d e f g h i j k l m n'.split()\n",
    "my_quick_list"
   ]
  },
  {
   "cell_type": "code",
   "execution_count": 39,
   "id": "79e45897",
   "metadata": {},
   "outputs": [
    {
     "data": {
      "text/plain": [
       "['a', 'b', 'c', 'd', 'e']"
      ]
     },
     "execution_count": 39,
     "metadata": {},
     "output_type": "execute_result"
    }
   ],
   "source": [
    "'a b c d e'.split()"
   ]
  },
  {
   "cell_type": "code",
   "execution_count": 40,
   "id": "093d00c7",
   "metadata": {},
   "outputs": [
    {
     "data": {
      "text/plain": [
       "['a', 'b', 'c', 'd', 'e']"
      ]
     },
     "execution_count": 40,
     "metadata": {},
     "output_type": "execute_result"
    }
   ],
   "source": [
    "'a,b,c,d,e'.split(',')"
   ]
  },
  {
   "cell_type": "code",
   "execution_count": 41,
   "id": "cf2cccc3",
   "metadata": {},
   "outputs": [
    {
     "data": {
      "text/plain": [
       "['a', 'b', 'c', 'd', 'e', 'f', 'g']"
      ]
     },
     "execution_count": 41,
     "metadata": {},
     "output_type": "execute_result"
    }
   ],
   "source": [
    "'a#b#c#d#e#f#g'.split('#')"
   ]
  },
  {
   "cell_type": "markdown",
   "id": "c72453a3",
   "metadata": {},
   "source": [
    "# List Comprehension\n",
    "- Unique way of quickly creating a list in Python\n",
    "- Offer a shorter syntax when you want to create a new list based on the values of an existing list\n",
    "\n",
    "Some general syntax:\n",
    "\n",
    "expression for item in iterable\n",
    "\n",
    "expression for item in iterable if condition\n",
    "\n",
    "expression1 if condition else expression2 for item in iterable"
   ]
  },
  {
   "cell_type": "code",
   "execution_count": 42,
   "id": "9c1576d3",
   "metadata": {},
   "outputs": [],
   "source": [
    "mystring = 'hello'"
   ]
  },
  {
   "cell_type": "code",
   "execution_count": 43,
   "id": "ed95d3d2",
   "metadata": {},
   "outputs": [
    {
     "data": {
      "text/plain": [
       "['h', 'e', 'l', 'l', 'o']"
      ]
     },
     "execution_count": 43,
     "metadata": {},
     "output_type": "execute_result"
    }
   ],
   "source": [
    "# Retrieve a list which contains all the characters from mystring using list comprehension\n",
    "mylist = [char for char in mystring]\n",
    "mylist"
   ]
  },
  {
   "cell_type": "code",
   "execution_count": 44,
   "id": "29fba6db",
   "metadata": {},
   "outputs": [
    {
     "data": {
      "text/plain": [
       "[1, 2, 3, 4, 5, 6, 7, 8, 9, 10, 11, 12, 13, 14, 15, 16, 17, 18, 19, 20]"
      ]
     },
     "execution_count": 44,
     "metadata": {},
     "output_type": "execute_result"
    }
   ],
   "source": [
    "my_num_list = list(range(1,21))\n",
    "my_num_list"
   ]
  },
  {
   "cell_type": "code",
   "execution_count": 45,
   "id": "39d73c57",
   "metadata": {},
   "outputs": [
    {
     "data": {
      "text/plain": [
       "[2, 4, 6, 8, 10, 12, 14, 16, 18, 20]"
      ]
     },
     "execution_count": 45,
     "metadata": {},
     "output_type": "execute_result"
    }
   ],
   "source": [
    "# Retrieve a list which contains all the even numbers from my_num_list using list comprehension\n",
    "my_num_list_even = [num for num in my_num_list if num%2 == 0]\n",
    "my_num_list_even "
   ]
  },
  {
   "cell_type": "code",
   "execution_count": 46,
   "id": "0207d383",
   "metadata": {},
   "outputs": [
    {
     "data": {
      "text/plain": [
       "[2, 4, 6, 8, 10, 12, 14, 16, 18, 20, 22, 24, 26, 28, 30, 32, 34, 36, 38, 40]"
      ]
     },
     "execution_count": 46,
     "metadata": {},
     "output_type": "execute_result"
    }
   ],
   "source": [
    "# Retrieve a list which is 2 times the value of my_num_list using list comprehension\n",
    "my_num_list_2times = [2 * num for num in my_num_list]\n",
    "my_num_list_2times"
   ]
  },
  {
   "cell_type": "code",
   "execution_count": 47,
   "id": "e9ea7588",
   "metadata": {},
   "outputs": [
    {
     "data": {
      "text/plain": [
       "['NOT EVEN',\n",
       " 2,\n",
       " 'NOT EVEN',\n",
       " 4,\n",
       " 'NOT EVEN',\n",
       " 6,\n",
       " 'NOT EVEN',\n",
       " 8,\n",
       " 'NOT EVEN',\n",
       " 10,\n",
       " 'NOT EVEN',\n",
       " 12,\n",
       " 'NOT EVEN',\n",
       " 14,\n",
       " 'NOT EVEN',\n",
       " 16,\n",
       " 'NOT EVEN',\n",
       " 18,\n",
       " 'NOT EVEN',\n",
       " 20]"
      ]
     },
     "execution_count": 47,
     "metadata": {},
     "output_type": "execute_result"
    }
   ],
   "source": [
    "# Retrieve a list which shows values only for even numbers. For odd numbers the list will show them as 'NOT EVEN'\n",
    "my_num_list_even_noteven = [num if num%2 == 0 else 'NOT EVEN' for num in my_num_list]\n",
    "my_num_list_even_noteven"
   ]
  },
  {
   "cell_type": "code",
   "execution_count": 48,
   "id": "76fbfc79",
   "metadata": {},
   "outputs": [
    {
     "data": {
      "text/plain": [
       "[32.0, 50.0, 68.0, 94.1]"
      ]
     },
     "execution_count": 48,
     "metadata": {},
     "output_type": "execute_result"
    }
   ],
   "source": [
    "# Convert a list of temperatures in celsius into fahrenheit using list comprehension\n",
    "temp_celsius = [0,10,20,34.5]\n",
    "\n",
    "temp_fahrenheit = [((9/5)*temp + 32) for temp in temp_celsius]\n",
    "temp_fahrenheit"
   ]
  },
  {
   "cell_type": "markdown",
   "id": "39f44fef",
   "metadata": {},
   "source": [
    "# Lambda Expression\n",
    "A lambda function is a small anonymous function.\n",
    "\n",
    "A lambda function can take any number of arguments, but can only have one expression.\n",
    "\n",
    "Lambda expression is useful when combined with apply() method from pandas for dataframe manipulation."
   ]
  },
  {
   "cell_type": "code",
   "execution_count": 49,
   "id": "0c1d6e78",
   "metadata": {},
   "outputs": [
    {
     "name": "stdout",
     "output_type": "stream",
     "text": [
      "15\n"
     ]
    }
   ],
   "source": [
    "x = lambda a : a + 10\n",
    "print(x(5))"
   ]
  },
  {
   "cell_type": "code",
   "execution_count": 50,
   "id": "039cb5e5",
   "metadata": {},
   "outputs": [
    {
     "name": "stdout",
     "output_type": "stream",
     "text": [
      "30\n"
     ]
    }
   ],
   "source": [
    "x = lambda a, b : a * b\n",
    "print(x(5, 6))"
   ]
  },
  {
   "cell_type": "code",
   "execution_count": 51,
   "id": "5163780b",
   "metadata": {},
   "outputs": [
    {
     "name": "stdout",
     "output_type": "stream",
     "text": [
      "13\n"
     ]
    }
   ],
   "source": [
    "x = lambda a, b, c : a + b + c\n",
    "print(x(5, 6, 2))"
   ]
  },
  {
   "cell_type": "code",
   "execution_count": 52,
   "id": "b6e6e884",
   "metadata": {},
   "outputs": [],
   "source": [
    "# Import numpy and pandas libraries\n",
    "import numpy as np\n",
    "import pandas as pd"
   ]
  },
  {
   "cell_type": "code",
   "execution_count": 53,
   "id": "c1e2f440",
   "metadata": {
    "scrolled": true
   },
   "outputs": [
    {
     "data": {
      "text/html": [
       "<div>\n",
       "<style scoped>\n",
       "    .dataframe tbody tr th:only-of-type {\n",
       "        vertical-align: middle;\n",
       "    }\n",
       "\n",
       "    .dataframe tbody tr th {\n",
       "        vertical-align: top;\n",
       "    }\n",
       "\n",
       "    .dataframe thead th {\n",
       "        text-align: right;\n",
       "    }\n",
       "</style>\n",
       "<table border=\"1\" class=\"dataframe\">\n",
       "  <thead>\n",
       "    <tr style=\"text-align: right;\">\n",
       "      <th></th>\n",
       "      <th>ID</th>\n",
       "      <th>Name</th>\n",
       "      <th>Sex</th>\n",
       "      <th>Age</th>\n",
       "      <th>Hourly_Rate</th>\n",
       "      <th>Weekly_Working_Hour</th>\n",
       "    </tr>\n",
       "  </thead>\n",
       "  <tbody>\n",
       "    <tr>\n",
       "      <th>0</th>\n",
       "      <td>1</td>\n",
       "      <td>Tom</td>\n",
       "      <td>Male</td>\n",
       "      <td>20</td>\n",
       "      <td>35</td>\n",
       "      <td>30</td>\n",
       "    </tr>\n",
       "    <tr>\n",
       "      <th>1</th>\n",
       "      <td>2</td>\n",
       "      <td>John</td>\n",
       "      <td>Male</td>\n",
       "      <td>41</td>\n",
       "      <td>35</td>\n",
       "      <td>40</td>\n",
       "    </tr>\n",
       "    <tr>\n",
       "      <th>2</th>\n",
       "      <td>3</td>\n",
       "      <td>David</td>\n",
       "      <td>Male</td>\n",
       "      <td>32</td>\n",
       "      <td>30</td>\n",
       "      <td>35</td>\n",
       "    </tr>\n",
       "    <tr>\n",
       "      <th>3</th>\n",
       "      <td>4</td>\n",
       "      <td>Eve</td>\n",
       "      <td>Female</td>\n",
       "      <td>24</td>\n",
       "      <td>25</td>\n",
       "      <td>35</td>\n",
       "    </tr>\n",
       "    <tr>\n",
       "      <th>4</th>\n",
       "      <td>5</td>\n",
       "      <td>Anna</td>\n",
       "      <td>Female</td>\n",
       "      <td>45</td>\n",
       "      <td>32</td>\n",
       "      <td>42</td>\n",
       "    </tr>\n",
       "  </tbody>\n",
       "</table>\n",
       "</div>"
      ],
      "text/plain": [
       "   ID   Name     Sex  Age  Hourly_Rate  Weekly_Working_Hour\n",
       "0   1    Tom    Male   20           35                   30\n",
       "1   2   John    Male   41           35                   40\n",
       "2   3  David    Male   32           30                   35\n",
       "3   4    Eve  Female   24           25                   35\n",
       "4   5   Anna  Female   45           32                   42"
      ]
     },
     "execution_count": 53,
     "metadata": {},
     "output_type": "execute_result"
    }
   ],
   "source": [
    "# Create a dataframe\n",
    "df_employee = pd.DataFrame({'ID':[1,2,3,4,5],\n",
    "                            'Name': ['Tom','John','David','Eve','Anna'],\n",
    "                            'Sex': ['Male','Male','Male','Female','Female'],\n",
    "                            'Age': [20,41,32,24,45],\n",
    "                            'Hourly_Rate': [35,35,30,25,32],\n",
    "                            'Weekly_Working_Hour': [30,40,35,35,42]\n",
    "                           })\n",
    "df_employee"
   ]
  },
  {
   "cell_type": "code",
   "execution_count": 54,
   "id": "669e6561",
   "metadata": {},
   "outputs": [
    {
     "data": {
      "text/html": [
       "<div>\n",
       "<style scoped>\n",
       "    .dataframe tbody tr th:only-of-type {\n",
       "        vertical-align: middle;\n",
       "    }\n",
       "\n",
       "    .dataframe tbody tr th {\n",
       "        vertical-align: top;\n",
       "    }\n",
       "\n",
       "    .dataframe thead th {\n",
       "        text-align: right;\n",
       "    }\n",
       "</style>\n",
       "<table border=\"1\" class=\"dataframe\">\n",
       "  <thead>\n",
       "    <tr style=\"text-align: right;\">\n",
       "      <th></th>\n",
       "      <th>ID</th>\n",
       "      <th>Name</th>\n",
       "      <th>Sex</th>\n",
       "      <th>Age</th>\n",
       "      <th>Hourly_Rate</th>\n",
       "      <th>Weekly_Working_Hour</th>\n",
       "    </tr>\n",
       "  </thead>\n",
       "  <tbody>\n",
       "    <tr>\n",
       "      <th>0</th>\n",
       "      <td>1</td>\n",
       "      <td>Tom</td>\n",
       "      <td>Male</td>\n",
       "      <td>20</td>\n",
       "      <td>35</td>\n",
       "      <td>32</td>\n",
       "    </tr>\n",
       "    <tr>\n",
       "      <th>1</th>\n",
       "      <td>2</td>\n",
       "      <td>John</td>\n",
       "      <td>Male</td>\n",
       "      <td>41</td>\n",
       "      <td>35</td>\n",
       "      <td>42</td>\n",
       "    </tr>\n",
       "    <tr>\n",
       "      <th>2</th>\n",
       "      <td>3</td>\n",
       "      <td>David</td>\n",
       "      <td>Male</td>\n",
       "      <td>32</td>\n",
       "      <td>30</td>\n",
       "      <td>37</td>\n",
       "    </tr>\n",
       "    <tr>\n",
       "      <th>3</th>\n",
       "      <td>4</td>\n",
       "      <td>Eve</td>\n",
       "      <td>Female</td>\n",
       "      <td>24</td>\n",
       "      <td>25</td>\n",
       "      <td>37</td>\n",
       "    </tr>\n",
       "    <tr>\n",
       "      <th>4</th>\n",
       "      <td>5</td>\n",
       "      <td>Anna</td>\n",
       "      <td>Female</td>\n",
       "      <td>45</td>\n",
       "      <td>32</td>\n",
       "      <td>44</td>\n",
       "    </tr>\n",
       "  </tbody>\n",
       "</table>\n",
       "</div>"
      ],
      "text/plain": [
       "   ID   Name     Sex  Age  Hourly_Rate  Weekly_Working_Hour\n",
       "0   1    Tom    Male   20           35                   32\n",
       "1   2   John    Male   41           35                   42\n",
       "2   3  David    Male   32           30                   37\n",
       "3   4    Eve  Female   24           25                   37\n",
       "4   5   Anna  Female   45           32                   44"
      ]
     },
     "execution_count": 54,
     "metadata": {},
     "output_type": "execute_result"
    }
   ],
   "source": [
    "# Adjust the Weekly_Working_Hours by adding 2 hours to each employee by using lamda expression and apply()\n",
    "df_employee['Weekly_Working_Hour'] = df_employee['Weekly_Working_Hour'].apply(lambda x: x + 2)\n",
    "df_employee"
   ]
  },
  {
   "cell_type": "code",
   "execution_count": 55,
   "id": "77f55c39",
   "metadata": {},
   "outputs": [
    {
     "data": {
      "text/html": [
       "<div>\n",
       "<style scoped>\n",
       "    .dataframe tbody tr th:only-of-type {\n",
       "        vertical-align: middle;\n",
       "    }\n",
       "\n",
       "    .dataframe tbody tr th {\n",
       "        vertical-align: top;\n",
       "    }\n",
       "\n",
       "    .dataframe thead th {\n",
       "        text-align: right;\n",
       "    }\n",
       "</style>\n",
       "<table border=\"1\" class=\"dataframe\">\n",
       "  <thead>\n",
       "    <tr style=\"text-align: right;\">\n",
       "      <th></th>\n",
       "      <th>ID</th>\n",
       "      <th>Name</th>\n",
       "      <th>Sex</th>\n",
       "      <th>Age</th>\n",
       "      <th>Hourly_Rate</th>\n",
       "      <th>Weekly_Working_Hour</th>\n",
       "      <th>Seniority</th>\n",
       "    </tr>\n",
       "  </thead>\n",
       "  <tbody>\n",
       "    <tr>\n",
       "      <th>0</th>\n",
       "      <td>1</td>\n",
       "      <td>Tom</td>\n",
       "      <td>Male</td>\n",
       "      <td>20</td>\n",
       "      <td>35</td>\n",
       "      <td>32</td>\n",
       "      <td>Junior</td>\n",
       "    </tr>\n",
       "    <tr>\n",
       "      <th>1</th>\n",
       "      <td>2</td>\n",
       "      <td>John</td>\n",
       "      <td>Male</td>\n",
       "      <td>41</td>\n",
       "      <td>35</td>\n",
       "      <td>42</td>\n",
       "      <td>Senior</td>\n",
       "    </tr>\n",
       "    <tr>\n",
       "      <th>2</th>\n",
       "      <td>3</td>\n",
       "      <td>David</td>\n",
       "      <td>Male</td>\n",
       "      <td>32</td>\n",
       "      <td>30</td>\n",
       "      <td>37</td>\n",
       "      <td>Junior</td>\n",
       "    </tr>\n",
       "    <tr>\n",
       "      <th>3</th>\n",
       "      <td>4</td>\n",
       "      <td>Eve</td>\n",
       "      <td>Female</td>\n",
       "      <td>24</td>\n",
       "      <td>25</td>\n",
       "      <td>37</td>\n",
       "      <td>Junior</td>\n",
       "    </tr>\n",
       "    <tr>\n",
       "      <th>4</th>\n",
       "      <td>5</td>\n",
       "      <td>Anna</td>\n",
       "      <td>Female</td>\n",
       "      <td>45</td>\n",
       "      <td>32</td>\n",
       "      <td>44</td>\n",
       "      <td>Senior</td>\n",
       "    </tr>\n",
       "  </tbody>\n",
       "</table>\n",
       "</div>"
      ],
      "text/plain": [
       "   ID   Name     Sex  Age  Hourly_Rate  Weekly_Working_Hour Seniority\n",
       "0   1    Tom    Male   20           35                   32    Junior\n",
       "1   2   John    Male   41           35                   42    Senior\n",
       "2   3  David    Male   32           30                   37    Junior\n",
       "3   4    Eve  Female   24           25                   37    Junior\n",
       "4   5   Anna  Female   45           32                   44    Senior"
      ]
     },
     "execution_count": 55,
     "metadata": {},
     "output_type": "execute_result"
    }
   ],
   "source": [
    "# Create a new column 'Seniority' by using lamda expression and apply()\n",
    "# Employees with age > 40 are considered 'Senior', otherwise 'Junior'\n",
    "df_employee['Seniority'] = df_employee['Age'].apply(lambda x: 'Senior' if x > 40 else 'Junior')\n",
    "df_employee"
   ]
  },
  {
   "cell_type": "code",
   "execution_count": 56,
   "id": "57de74f8",
   "metadata": {},
   "outputs": [
    {
     "data": {
      "text/html": [
       "<div>\n",
       "<style scoped>\n",
       "    .dataframe tbody tr th:only-of-type {\n",
       "        vertical-align: middle;\n",
       "    }\n",
       "\n",
       "    .dataframe tbody tr th {\n",
       "        vertical-align: top;\n",
       "    }\n",
       "\n",
       "    .dataframe thead th {\n",
       "        text-align: right;\n",
       "    }\n",
       "</style>\n",
       "<table border=\"1\" class=\"dataframe\">\n",
       "  <thead>\n",
       "    <tr style=\"text-align: right;\">\n",
       "      <th></th>\n",
       "      <th>ID</th>\n",
       "      <th>Name</th>\n",
       "      <th>Sex</th>\n",
       "      <th>Age</th>\n",
       "      <th>Hourly_Rate</th>\n",
       "      <th>Weekly_Working_Hour</th>\n",
       "      <th>Seniority</th>\n",
       "      <th>Weekly_Wage</th>\n",
       "    </tr>\n",
       "  </thead>\n",
       "  <tbody>\n",
       "    <tr>\n",
       "      <th>0</th>\n",
       "      <td>1</td>\n",
       "      <td>Tom</td>\n",
       "      <td>Male</td>\n",
       "      <td>20</td>\n",
       "      <td>35</td>\n",
       "      <td>32</td>\n",
       "      <td>Junior</td>\n",
       "      <td>1120</td>\n",
       "    </tr>\n",
       "    <tr>\n",
       "      <th>1</th>\n",
       "      <td>2</td>\n",
       "      <td>John</td>\n",
       "      <td>Male</td>\n",
       "      <td>41</td>\n",
       "      <td>35</td>\n",
       "      <td>42</td>\n",
       "      <td>Senior</td>\n",
       "      <td>1520</td>\n",
       "    </tr>\n",
       "    <tr>\n",
       "      <th>2</th>\n",
       "      <td>3</td>\n",
       "      <td>David</td>\n",
       "      <td>Male</td>\n",
       "      <td>32</td>\n",
       "      <td>30</td>\n",
       "      <td>37</td>\n",
       "      <td>Junior</td>\n",
       "      <td>1110</td>\n",
       "    </tr>\n",
       "    <tr>\n",
       "      <th>3</th>\n",
       "      <td>4</td>\n",
       "      <td>Eve</td>\n",
       "      <td>Female</td>\n",
       "      <td>24</td>\n",
       "      <td>25</td>\n",
       "      <td>37</td>\n",
       "      <td>Junior</td>\n",
       "      <td>925</td>\n",
       "    </tr>\n",
       "    <tr>\n",
       "      <th>4</th>\n",
       "      <td>5</td>\n",
       "      <td>Anna</td>\n",
       "      <td>Female</td>\n",
       "      <td>45</td>\n",
       "      <td>32</td>\n",
       "      <td>44</td>\n",
       "      <td>Senior</td>\n",
       "      <td>1458</td>\n",
       "    </tr>\n",
       "  </tbody>\n",
       "</table>\n",
       "</div>"
      ],
      "text/plain": [
       "   ID   Name     Sex  Age  Hourly_Rate  Weekly_Working_Hour Seniority  \\\n",
       "0   1    Tom    Male   20           35                   32    Junior   \n",
       "1   2   John    Male   41           35                   42    Senior   \n",
       "2   3  David    Male   32           30                   37    Junior   \n",
       "3   4    Eve  Female   24           25                   37    Junior   \n",
       "4   5   Anna  Female   45           32                   44    Senior   \n",
       "\n",
       "   Weekly_Wage  \n",
       "0         1120  \n",
       "1         1520  \n",
       "2         1110  \n",
       "3          925  \n",
       "4         1458  "
      ]
     },
     "execution_count": 56,
     "metadata": {},
     "output_type": "execute_result"
    }
   ],
   "source": [
    "# Create a new column 'Weekly_Wage' by using lamda expression and apply()\n",
    "# For employees who are seniors, they will get additional 50 per week. Otherwise nothing.\n",
    "df_employee['Weekly_Wage'] = (df_employee['Hourly_Rate'] * df_employee['Weekly_Working_Hour']) + \\\n",
    "                              df_employee['Seniority'].apply(lambda x: 50 if x == 'Senior' else 0)\n",
    "df_employee"
   ]
  },
  {
   "cell_type": "markdown",
   "id": "c8775f7b",
   "metadata": {},
   "source": [
    "# map()\n",
    "Execute a specified function for each item in an iterable. The item is sent to the function as a parameter."
   ]
  },
  {
   "cell_type": "code",
   "execution_count": 57,
   "id": "85cd3392",
   "metadata": {},
   "outputs": [],
   "source": [
    "def square(num):\n",
    "    return num**2"
   ]
  },
  {
   "cell_type": "code",
   "execution_count": 58,
   "id": "b5e60fff",
   "metadata": {},
   "outputs": [],
   "source": [
    "my_num_list = [1,2,3,4,5]"
   ]
  },
  {
   "cell_type": "code",
   "execution_count": 59,
   "id": "6ae136c1",
   "metadata": {},
   "outputs": [
    {
     "name": "stdout",
     "output_type": "stream",
     "text": [
      "1\n",
      "4\n",
      "9\n",
      "16\n",
      "25\n"
     ]
    }
   ],
   "source": [
    "for item in map(square,my_num_list):\n",
    "    print(item)"
   ]
  },
  {
   "cell_type": "code",
   "execution_count": 60,
   "id": "e6b4ee85",
   "metadata": {},
   "outputs": [
    {
     "data": {
      "text/plain": [
       "[1, 4, 9, 16, 25]"
      ]
     },
     "execution_count": 60,
     "metadata": {},
     "output_type": "execute_result"
    }
   ],
   "source": [
    "list(map(square,my_num_list))"
   ]
  },
  {
   "cell_type": "code",
   "execution_count": 61,
   "id": "abc6327a",
   "metadata": {},
   "outputs": [
    {
     "data": {
      "text/plain": [
       "[1, 4, 9, 16, 25]"
      ]
     },
     "execution_count": 61,
     "metadata": {},
     "output_type": "execute_result"
    }
   ],
   "source": [
    "# Can also be done without defining square function by using lambda expression\n",
    "list(map(lambda x: x**2,my_num_list))"
   ]
  },
  {
   "cell_type": "code",
   "execution_count": 62,
   "id": "bea40f00",
   "metadata": {},
   "outputs": [
    {
     "data": {
      "text/html": [
       "<div>\n",
       "<style scoped>\n",
       "    .dataframe tbody tr th:only-of-type {\n",
       "        vertical-align: middle;\n",
       "    }\n",
       "\n",
       "    .dataframe tbody tr th {\n",
       "        vertical-align: top;\n",
       "    }\n",
       "\n",
       "    .dataframe thead th {\n",
       "        text-align: right;\n",
       "    }\n",
       "</style>\n",
       "<table border=\"1\" class=\"dataframe\">\n",
       "  <thead>\n",
       "    <tr style=\"text-align: right;\">\n",
       "      <th></th>\n",
       "      <th>ID</th>\n",
       "      <th>Name</th>\n",
       "      <th>Sex</th>\n",
       "      <th>Age</th>\n",
       "      <th>Hourly_Rate</th>\n",
       "      <th>Weekly_Working_Hour</th>\n",
       "    </tr>\n",
       "  </thead>\n",
       "  <tbody>\n",
       "    <tr>\n",
       "      <th>0</th>\n",
       "      <td>1</td>\n",
       "      <td>Tom</td>\n",
       "      <td>Male</td>\n",
       "      <td>20</td>\n",
       "      <td>35</td>\n",
       "      <td>30</td>\n",
       "    </tr>\n",
       "    <tr>\n",
       "      <th>1</th>\n",
       "      <td>2</td>\n",
       "      <td>John</td>\n",
       "      <td>Male</td>\n",
       "      <td>41</td>\n",
       "      <td>35</td>\n",
       "      <td>40</td>\n",
       "    </tr>\n",
       "    <tr>\n",
       "      <th>2</th>\n",
       "      <td>3</td>\n",
       "      <td>David</td>\n",
       "      <td>Male</td>\n",
       "      <td>32</td>\n",
       "      <td>30</td>\n",
       "      <td>35</td>\n",
       "    </tr>\n",
       "    <tr>\n",
       "      <th>3</th>\n",
       "      <td>4</td>\n",
       "      <td>Eve</td>\n",
       "      <td>Female</td>\n",
       "      <td>24</td>\n",
       "      <td>25</td>\n",
       "      <td>35</td>\n",
       "    </tr>\n",
       "    <tr>\n",
       "      <th>4</th>\n",
       "      <td>5</td>\n",
       "      <td>Anna</td>\n",
       "      <td>Female</td>\n",
       "      <td>45</td>\n",
       "      <td>32</td>\n",
       "      <td>42</td>\n",
       "    </tr>\n",
       "  </tbody>\n",
       "</table>\n",
       "</div>"
      ],
      "text/plain": [
       "   ID   Name     Sex  Age  Hourly_Rate  Weekly_Working_Hour\n",
       "0   1    Tom    Male   20           35                   30\n",
       "1   2   John    Male   41           35                   40\n",
       "2   3  David    Male   32           30                   35\n",
       "3   4    Eve  Female   24           25                   35\n",
       "4   5   Anna  Female   45           32                   42"
      ]
     },
     "execution_count": 62,
     "metadata": {},
     "output_type": "execute_result"
    }
   ],
   "source": [
    "# Create a dataframe\n",
    "df_employee = pd.DataFrame({'ID':[1,2,3,4,5],\n",
    "                            'Name': ['Tom','John','David','Eve','Anna'],\n",
    "                            'Sex': ['Male','Male','Male','Female','Female'],\n",
    "                            'Age': [20,41,32,24,45],\n",
    "                            'Hourly_Rate': [35,35,30,25,32],\n",
    "                            'Weekly_Working_Hour': [30,40,35,35,42]\n",
    "                           })\n",
    "df_employee"
   ]
  },
  {
   "cell_type": "code",
   "execution_count": 63,
   "id": "458ab217",
   "metadata": {},
   "outputs": [],
   "source": [
    "# Define a function for seniority check\n",
    "# Employees with age > 40 are considered 'Senior', otherwise 'Junior'\n",
    "def seniority_check(age):\n",
    "    if age > 40:\n",
    "        seniority = 'Senior'\n",
    "    else:\n",
    "        seniority = 'Junior'\n",
    "        \n",
    "    return seniority"
   ]
  },
  {
   "cell_type": "code",
   "execution_count": 64,
   "id": "602afe02",
   "metadata": {},
   "outputs": [
    {
     "data": {
      "text/html": [
       "<div>\n",
       "<style scoped>\n",
       "    .dataframe tbody tr th:only-of-type {\n",
       "        vertical-align: middle;\n",
       "    }\n",
       "\n",
       "    .dataframe tbody tr th {\n",
       "        vertical-align: top;\n",
       "    }\n",
       "\n",
       "    .dataframe thead th {\n",
       "        text-align: right;\n",
       "    }\n",
       "</style>\n",
       "<table border=\"1\" class=\"dataframe\">\n",
       "  <thead>\n",
       "    <tr style=\"text-align: right;\">\n",
       "      <th></th>\n",
       "      <th>ID</th>\n",
       "      <th>Name</th>\n",
       "      <th>Sex</th>\n",
       "      <th>Age</th>\n",
       "      <th>Hourly_Rate</th>\n",
       "      <th>Weekly_Working_Hour</th>\n",
       "      <th>Seniority</th>\n",
       "    </tr>\n",
       "  </thead>\n",
       "  <tbody>\n",
       "    <tr>\n",
       "      <th>0</th>\n",
       "      <td>1</td>\n",
       "      <td>Tom</td>\n",
       "      <td>Male</td>\n",
       "      <td>20</td>\n",
       "      <td>35</td>\n",
       "      <td>30</td>\n",
       "      <td>Junior</td>\n",
       "    </tr>\n",
       "    <tr>\n",
       "      <th>1</th>\n",
       "      <td>2</td>\n",
       "      <td>John</td>\n",
       "      <td>Male</td>\n",
       "      <td>41</td>\n",
       "      <td>35</td>\n",
       "      <td>40</td>\n",
       "      <td>Senior</td>\n",
       "    </tr>\n",
       "    <tr>\n",
       "      <th>2</th>\n",
       "      <td>3</td>\n",
       "      <td>David</td>\n",
       "      <td>Male</td>\n",
       "      <td>32</td>\n",
       "      <td>30</td>\n",
       "      <td>35</td>\n",
       "      <td>Junior</td>\n",
       "    </tr>\n",
       "    <tr>\n",
       "      <th>3</th>\n",
       "      <td>4</td>\n",
       "      <td>Eve</td>\n",
       "      <td>Female</td>\n",
       "      <td>24</td>\n",
       "      <td>25</td>\n",
       "      <td>35</td>\n",
       "      <td>Junior</td>\n",
       "    </tr>\n",
       "    <tr>\n",
       "      <th>4</th>\n",
       "      <td>5</td>\n",
       "      <td>Anna</td>\n",
       "      <td>Female</td>\n",
       "      <td>45</td>\n",
       "      <td>32</td>\n",
       "      <td>42</td>\n",
       "      <td>Senior</td>\n",
       "    </tr>\n",
       "  </tbody>\n",
       "</table>\n",
       "</div>"
      ],
      "text/plain": [
       "   ID   Name     Sex  Age  Hourly_Rate  Weekly_Working_Hour Seniority\n",
       "0   1    Tom    Male   20           35                   30    Junior\n",
       "1   2   John    Male   41           35                   40    Senior\n",
       "2   3  David    Male   32           30                   35    Junior\n",
       "3   4    Eve  Female   24           25                   35    Junior\n",
       "4   5   Anna  Female   45           32                   42    Senior"
      ]
     },
     "execution_count": 64,
     "metadata": {},
     "output_type": "execute_result"
    }
   ],
   "source": [
    "# Create a new column 'Seniority' by map()\n",
    "df_employee['Seniority'] = df_employee['Age'].map(seniority_check)\n",
    "df_employee"
   ]
  },
  {
   "cell_type": "code",
   "execution_count": 65,
   "id": "27c44fe3",
   "metadata": {},
   "outputs": [
    {
     "data": {
      "text/html": [
       "<div>\n",
       "<style scoped>\n",
       "    .dataframe tbody tr th:only-of-type {\n",
       "        vertical-align: middle;\n",
       "    }\n",
       "\n",
       "    .dataframe tbody tr th {\n",
       "        vertical-align: top;\n",
       "    }\n",
       "\n",
       "    .dataframe thead th {\n",
       "        text-align: right;\n",
       "    }\n",
       "</style>\n",
       "<table border=\"1\" class=\"dataframe\">\n",
       "  <thead>\n",
       "    <tr style=\"text-align: right;\">\n",
       "      <th></th>\n",
       "      <th>ID</th>\n",
       "      <th>Name</th>\n",
       "      <th>Sex</th>\n",
       "      <th>Age</th>\n",
       "      <th>Hourly_Rate</th>\n",
       "      <th>Weekly_Working_Hour</th>\n",
       "      <th>Seniority</th>\n",
       "      <th>Country</th>\n",
       "    </tr>\n",
       "  </thead>\n",
       "  <tbody>\n",
       "    <tr>\n",
       "      <th>0</th>\n",
       "      <td>1</td>\n",
       "      <td>Tom</td>\n",
       "      <td>Male</td>\n",
       "      <td>20</td>\n",
       "      <td>35</td>\n",
       "      <td>30</td>\n",
       "      <td>Junior</td>\n",
       "      <td>USA</td>\n",
       "    </tr>\n",
       "    <tr>\n",
       "      <th>1</th>\n",
       "      <td>2</td>\n",
       "      <td>John</td>\n",
       "      <td>Male</td>\n",
       "      <td>41</td>\n",
       "      <td>35</td>\n",
       "      <td>40</td>\n",
       "      <td>Senior</td>\n",
       "      <td>UK</td>\n",
       "    </tr>\n",
       "    <tr>\n",
       "      <th>2</th>\n",
       "      <td>3</td>\n",
       "      <td>David</td>\n",
       "      <td>Male</td>\n",
       "      <td>32</td>\n",
       "      <td>30</td>\n",
       "      <td>35</td>\n",
       "      <td>Junior</td>\n",
       "      <td>Singapore</td>\n",
       "    </tr>\n",
       "    <tr>\n",
       "      <th>3</th>\n",
       "      <td>4</td>\n",
       "      <td>Eve</td>\n",
       "      <td>Female</td>\n",
       "      <td>24</td>\n",
       "      <td>25</td>\n",
       "      <td>35</td>\n",
       "      <td>Junior</td>\n",
       "      <td>France</td>\n",
       "    </tr>\n",
       "    <tr>\n",
       "      <th>4</th>\n",
       "      <td>5</td>\n",
       "      <td>Anna</td>\n",
       "      <td>Female</td>\n",
       "      <td>45</td>\n",
       "      <td>32</td>\n",
       "      <td>42</td>\n",
       "      <td>Senior</td>\n",
       "      <td>Brazil</td>\n",
       "    </tr>\n",
       "  </tbody>\n",
       "</table>\n",
       "</div>"
      ],
      "text/plain": [
       "   ID   Name     Sex  Age  Hourly_Rate  Weekly_Working_Hour Seniority  \\\n",
       "0   1    Tom    Male   20           35                   30    Junior   \n",
       "1   2   John    Male   41           35                   40    Senior   \n",
       "2   3  David    Male   32           30                   35    Junior   \n",
       "3   4    Eve  Female   24           25                   35    Junior   \n",
       "4   5   Anna  Female   45           32                   42    Senior   \n",
       "\n",
       "     Country  \n",
       "0        USA  \n",
       "1         UK  \n",
       "2  Singapore  \n",
       "3     France  \n",
       "4     Brazil  "
      ]
     },
     "execution_count": 65,
     "metadata": {},
     "output_type": "execute_result"
    }
   ],
   "source": [
    "# Create a new column 'Country'\n",
    "df_employee['Country'] = ['USA','UK','Singapore','France','Brazil']\n",
    "df_employee"
   ]
  },
  {
   "cell_type": "code",
   "execution_count": 66,
   "id": "8cafe531",
   "metadata": {},
   "outputs": [],
   "source": [
    "# Create a new column 'Continent' using map()\n",
    "df_employee['Continent'] = df_employee['Country'].map({'USA': 'North America',\n",
    "                                                       'UK': 'Europe',\n",
    "                                                       'Singapore': 'Asia', \n",
    "                                                       'France': 'Europe', \n",
    "                                                       'Brazil': 'South America'})"
   ]
  },
  {
   "cell_type": "code",
   "execution_count": 67,
   "id": "c3325a41",
   "metadata": {},
   "outputs": [
    {
     "data": {
      "text/html": [
       "<div>\n",
       "<style scoped>\n",
       "    .dataframe tbody tr th:only-of-type {\n",
       "        vertical-align: middle;\n",
       "    }\n",
       "\n",
       "    .dataframe tbody tr th {\n",
       "        vertical-align: top;\n",
       "    }\n",
       "\n",
       "    .dataframe thead th {\n",
       "        text-align: right;\n",
       "    }\n",
       "</style>\n",
       "<table border=\"1\" class=\"dataframe\">\n",
       "  <thead>\n",
       "    <tr style=\"text-align: right;\">\n",
       "      <th></th>\n",
       "      <th>ID</th>\n",
       "      <th>Name</th>\n",
       "      <th>Sex</th>\n",
       "      <th>Age</th>\n",
       "      <th>Hourly_Rate</th>\n",
       "      <th>Weekly_Working_Hour</th>\n",
       "      <th>Seniority</th>\n",
       "      <th>Country</th>\n",
       "      <th>Continent</th>\n",
       "    </tr>\n",
       "  </thead>\n",
       "  <tbody>\n",
       "    <tr>\n",
       "      <th>0</th>\n",
       "      <td>1</td>\n",
       "      <td>Tom</td>\n",
       "      <td>Male</td>\n",
       "      <td>20</td>\n",
       "      <td>35</td>\n",
       "      <td>30</td>\n",
       "      <td>Junior</td>\n",
       "      <td>USA</td>\n",
       "      <td>North America</td>\n",
       "    </tr>\n",
       "    <tr>\n",
       "      <th>1</th>\n",
       "      <td>2</td>\n",
       "      <td>John</td>\n",
       "      <td>Male</td>\n",
       "      <td>41</td>\n",
       "      <td>35</td>\n",
       "      <td>40</td>\n",
       "      <td>Senior</td>\n",
       "      <td>UK</td>\n",
       "      <td>Europe</td>\n",
       "    </tr>\n",
       "    <tr>\n",
       "      <th>2</th>\n",
       "      <td>3</td>\n",
       "      <td>David</td>\n",
       "      <td>Male</td>\n",
       "      <td>32</td>\n",
       "      <td>30</td>\n",
       "      <td>35</td>\n",
       "      <td>Junior</td>\n",
       "      <td>Singapore</td>\n",
       "      <td>Asia</td>\n",
       "    </tr>\n",
       "    <tr>\n",
       "      <th>3</th>\n",
       "      <td>4</td>\n",
       "      <td>Eve</td>\n",
       "      <td>Female</td>\n",
       "      <td>24</td>\n",
       "      <td>25</td>\n",
       "      <td>35</td>\n",
       "      <td>Junior</td>\n",
       "      <td>France</td>\n",
       "      <td>Europe</td>\n",
       "    </tr>\n",
       "    <tr>\n",
       "      <th>4</th>\n",
       "      <td>5</td>\n",
       "      <td>Anna</td>\n",
       "      <td>Female</td>\n",
       "      <td>45</td>\n",
       "      <td>32</td>\n",
       "      <td>42</td>\n",
       "      <td>Senior</td>\n",
       "      <td>Brazil</td>\n",
       "      <td>South America</td>\n",
       "    </tr>\n",
       "  </tbody>\n",
       "</table>\n",
       "</div>"
      ],
      "text/plain": [
       "   ID   Name     Sex  Age  Hourly_Rate  Weekly_Working_Hour Seniority  \\\n",
       "0   1    Tom    Male   20           35                   30    Junior   \n",
       "1   2   John    Male   41           35                   40    Senior   \n",
       "2   3  David    Male   32           30                   35    Junior   \n",
       "3   4    Eve  Female   24           25                   35    Junior   \n",
       "4   5   Anna  Female   45           32                   42    Senior   \n",
       "\n",
       "     Country      Continent  \n",
       "0        USA  North America  \n",
       "1         UK         Europe  \n",
       "2  Singapore           Asia  \n",
       "3     France         Europe  \n",
       "4     Brazil  South America  "
      ]
     },
     "execution_count": 67,
     "metadata": {},
     "output_type": "execute_result"
    }
   ],
   "source": [
    "df_employee"
   ]
  },
  {
   "cell_type": "markdown",
   "id": "e71a0972",
   "metadata": {},
   "source": [
    "# filter()\n",
    "Return an iterator were the items are filtered through a function to test if the item is accepted or not."
   ]
  },
  {
   "cell_type": "code",
   "execution_count": 68,
   "id": "7ce443d2",
   "metadata": {},
   "outputs": [],
   "source": [
    "def myFunc(x):\n",
    "    if x < 18:\n",
    "        return False\n",
    "    else:\n",
    "        return True"
   ]
  },
  {
   "cell_type": "code",
   "execution_count": 69,
   "id": "9b92a81e",
   "metadata": {},
   "outputs": [],
   "source": [
    "ages = [5, 12, 17, 18, 24, 32]"
   ]
  },
  {
   "cell_type": "code",
   "execution_count": 70,
   "id": "51e66738",
   "metadata": {},
   "outputs": [
    {
     "data": {
      "text/plain": [
       "[18, 24, 32]"
      ]
     },
     "execution_count": 70,
     "metadata": {},
     "output_type": "execute_result"
    }
   ],
   "source": [
    "list(filter(myFunc, ages))"
   ]
  },
  {
   "cell_type": "code",
   "execution_count": 71,
   "id": "1f1201d0",
   "metadata": {},
   "outputs": [
    {
     "name": "stdout",
     "output_type": "stream",
     "text": [
      "18\n",
      "24\n",
      "32\n"
     ]
    }
   ],
   "source": [
    "for item in list(filter(myFunc, ages)):\n",
    "    print(item)"
   ]
  },
  {
   "cell_type": "code",
   "execution_count": 72,
   "id": "b9274f56",
   "metadata": {},
   "outputs": [
    {
     "data": {
      "text/plain": [
       "[18, 24, 32]"
      ]
     },
     "execution_count": 72,
     "metadata": {},
     "output_type": "execute_result"
    }
   ],
   "source": [
    "# Or this can be done without defining function myFunc using lambda expression\n",
    "list(filter(lambda x: False if x < 18 else True, ages))"
   ]
  },
  {
   "cell_type": "code",
   "execution_count": 73,
   "id": "92f20074",
   "metadata": {},
   "outputs": [
    {
     "name": "stdout",
     "output_type": "stream",
     "text": [
      "18\n",
      "24\n",
      "32\n"
     ]
    }
   ],
   "source": [
    "for item in list(filter(lambda x: False if x < 18 else True, ages)):\n",
    "    print(item)"
   ]
  },
  {
   "cell_type": "code",
   "execution_count": 74,
   "id": "eab66cf4",
   "metadata": {},
   "outputs": [],
   "source": [
    "def check_even(num):\n",
    "    return num%2 == 0"
   ]
  },
  {
   "cell_type": "code",
   "execution_count": 75,
   "id": "79eef81e",
   "metadata": {},
   "outputs": [],
   "source": [
    "mynums = [1,2,3,4,5,6]"
   ]
  },
  {
   "cell_type": "code",
   "execution_count": 76,
   "id": "f0932838",
   "metadata": {},
   "outputs": [
    {
     "data": {
      "text/plain": [
       "[2, 4, 6]"
      ]
     },
     "execution_count": 76,
     "metadata": {},
     "output_type": "execute_result"
    }
   ],
   "source": [
    "list(filter(check_even,mynums))"
   ]
  },
  {
   "cell_type": "code",
   "execution_count": 77,
   "id": "884f8556",
   "metadata": {},
   "outputs": [
    {
     "name": "stdout",
     "output_type": "stream",
     "text": [
      "2\n",
      "4\n",
      "6\n"
     ]
    }
   ],
   "source": [
    "for item in filter(check_even,mynums):\n",
    "    print(item)"
   ]
  },
  {
   "cell_type": "code",
   "execution_count": 78,
   "id": "ea5c8f68",
   "metadata": {},
   "outputs": [
    {
     "data": {
      "text/plain": [
       "[2, 4, 6]"
      ]
     },
     "execution_count": 78,
     "metadata": {},
     "output_type": "execute_result"
    }
   ],
   "source": [
    "# Or this can be done without defining function check_even using lambda expression\n",
    "list(filter(lambda x: True if x%2 == 0 else False,mynums))"
   ]
  },
  {
   "cell_type": "code",
   "execution_count": 79,
   "id": "323da43c",
   "metadata": {},
   "outputs": [
    {
     "name": "stdout",
     "output_type": "stream",
     "text": [
      "2\n",
      "4\n",
      "6\n"
     ]
    }
   ],
   "source": [
    "for item in filter(lambda x: True if x%2 == 0 else False,mynums):\n",
    "    print(item)"
   ]
  },
  {
   "cell_type": "code",
   "execution_count": null,
   "id": "64a19ae8",
   "metadata": {},
   "outputs": [],
   "source": []
  },
  {
   "cell_type": "code",
   "execution_count": null,
   "id": "e79a1fa9",
   "metadata": {},
   "outputs": [],
   "source": []
  },
  {
   "cell_type": "code",
   "execution_count": null,
   "id": "545553a5",
   "metadata": {},
   "outputs": [],
   "source": []
  },
  {
   "cell_type": "code",
   "execution_count": null,
   "id": "687b5a85",
   "metadata": {},
   "outputs": [],
   "source": []
  },
  {
   "cell_type": "code",
   "execution_count": null,
   "id": "edd3f5e7",
   "metadata": {},
   "outputs": [],
   "source": []
  },
  {
   "cell_type": "code",
   "execution_count": null,
   "id": "a4de3466",
   "metadata": {},
   "outputs": [],
   "source": []
  },
  {
   "cell_type": "code",
   "execution_count": null,
   "id": "4332d0f9",
   "metadata": {},
   "outputs": [],
   "source": []
  }
 ],
 "metadata": {
  "kernelspec": {
   "display_name": "Python 3 (ipykernel)",
   "language": "python",
   "name": "python3"
  },
  "language_info": {
   "codemirror_mode": {
    "name": "ipython",
    "version": 3
   },
   "file_extension": ".py",
   "mimetype": "text/x-python",
   "name": "python",
   "nbconvert_exporter": "python",
   "pygments_lexer": "ipython3",
   "version": "3.9.7"
  }
 },
 "nbformat": 4,
 "nbformat_minor": 5
}
